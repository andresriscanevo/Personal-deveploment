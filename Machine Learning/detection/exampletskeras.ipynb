{
 "cells": [
  {
   "cell_type": "code",
   "execution_count": 2,
   "metadata": {},
   "outputs": [],
   "source": [
    "import tensorflow as tf\n",
    "import tensorflow_datasets as tfds"
   ]
  },
  {
   "cell_type": "code",
   "execution_count": 3,
   "metadata": {},
   "outputs": [],
   "source": [
    "datos,metadatos=tfds.load('fashion_mnist',as_supervised=True,with_info=True)\n"
   ]
  },
  {
   "cell_type": "code",
   "execution_count": 4,
   "metadata": {},
   "outputs": [],
   "source": [
    "dattrain,dattest=datos['train'],datos['test']\n",
    "nombresclases=metadatos.features['label'].names\n"
   ]
  },
  {
   "cell_type": "markdown",
   "metadata": {},
   "source": [
    "normalizacion de los datos \n",
    "donde pasamos los datos de 0-255 a 0-1"
   ]
  },
  {
   "cell_type": "code",
   "execution_count": 5,
   "metadata": {},
   "outputs": [],
   "source": [
    "def normalizar(images, tags):\n",
    "    images=tf.cast(images,tf.float32)\n",
    "    images/=255\n",
    "    return images,tags\n",
    "# normalizamos con los datos adquiridos \n",
    "dattrain=dattrain.map(normalizar)\n",
    "dattest=dattest.map(normalizar)\n",
    "dattrain=dattrain.cache()\n",
    "dattest=dattest.cache()\n"
   ]
  },
  {
   "cell_type": "code",
   "execution_count": 6,
   "metadata": {},
   "outputs": [],
   "source": [
    "#creacion del modelo \n",
    "modelo=tf.keras.Sequential([\n",
    "    tf.keras.layers.Flatten(input_shape=(28,28,1)),\n",
    "    tf.keras.layers.Dense(50,activation=tf.nn.relu),\n",
    "    tf.keras.layers.Dense(50,activation=tf.nn.relu),\n",
    "    tf.keras.layers.Dense(10,activation=tf.nn.softmax)\n",
    "])"
   ]
  },
  {
   "cell_type": "code",
   "execution_count": 7,
   "metadata": {},
   "outputs": [
    {
     "data": {
      "text/plain": [
       "(10000, 60000)"
      ]
     },
     "execution_count": 7,
     "metadata": {},
     "output_type": "execute_result"
    }
   ],
   "source": [
    "# compilacion del modelo creado con keras \n",
    "modelo.compile(\n",
    "    optimizer='adam',\n",
    "    loss=tf.keras.losses.SparseCategoricalCrossentropy(),\n",
    "    metrics=['accuracy']\n",
    "\n",
    ")\n",
    "numtrain=metadatos.splits[\"train\"].num_examples\n",
    "numtest=metadatos.splits[\"test\"].num_examples\n",
    "numtest,numtrain\n"
   ]
  },
  {
   "cell_type": "code",
   "execution_count": 8,
   "metadata": {},
   "outputs": [
    {
     "name": "stdout",
     "output_type": "stream",
     "text": [
      "Epoch 1/5\n",
      "1875/1875 [==============================] - 5s 2ms/step - loss: 0.5105 - accuracy: 0.8191\n",
      "Epoch 2/5\n",
      "1875/1875 [==============================] - 3s 2ms/step - loss: 0.3848 - accuracy: 0.8611\n",
      "Epoch 3/5\n",
      "1875/1875 [==============================] - 3s 2ms/step - loss: 0.3487 - accuracy: 0.8733\n",
      "Epoch 4/5\n",
      "1875/1875 [==============================] - 3s 1ms/step - loss: 0.3272 - accuracy: 0.8792\n",
      "Epoch 5/5\n",
      "1875/1875 [==============================] - 3s 2ms/step - loss: 0.3132 - accuracy: 0.8848\n"
     ]
    }
   ],
   "source": [
    "sizelot=32\n",
    "dattrain=dattrain.repeat().shuffle(numtrain).batch(sizelot)\n",
    "dattest=dattest.batch(sizelot)\n",
    "#entrenamiento \n",
    "import math\n",
    "\n",
    "historial=modelo.fit(dattrain,epochs=5,steps_per_epoch=math.ceil(numtrain/sizelot))"
   ]
  },
  {
   "cell_type": "code",
   "execution_count": 10,
   "metadata": {},
   "outputs": [
    {
     "data": {
      "text/plain": [
       "[<matplotlib.lines.Line2D at 0x2246a764370>]"
      ]
     },
     "execution_count": 10,
     "metadata": {},
     "output_type": "execute_result"
    },
    {
     "data": {
      "image/png": "[encoded data removed]",
      "text/plain": [
       "<Figure size 432x288 with 1 Axes>"
      ]
     },
     "metadata": {
      "needs_background": "light"
     },
     "output_type": "display_data"
    }
   ],
   "source": [
    "#Ver la funcion de perdida\n",
    "\n",
    "import matplotlib.pyplot as plt\n",
    "plt.xlabel(\"# Epoca\")\n",
    "plt.ylabel(\"Magnitud de pérdida\")\n",
    "plt.plot(historial.history[\"loss\"])"
   ]
  },
  {
   "cell_type": "code",
   "execution_count": 12,
   "metadata": {},
   "outputs": [
    {
     "name": "stdout",
     "output_type": "stream",
     "text": [
      "1/1 [==============================] - 0s 17ms/step\n",
      "1/1 [==============================] - 0s 15ms/step\n",
      "Prediccion: T-shirt/top\n"
     ]
    }
   ],
   "source": [
    "import numpy as np\n",
    "\n",
    "for imagenes_prueba, etiquetas_prueba in dattest.take(1):\n",
    "  imagenes_prueba = imagenes_prueba.numpy()\n",
    "  etiquetas_prueba = etiquetas_prueba.numpy()\n",
    "  predicciones = modelo.predict(imagenes_prueba)\n",
    "imagetest= imagenes_prueba[20] #AL ser la variable imagenes_prueba solo tiene lo que se le puso en el bloque anterior heheh\n",
    "imagetest = np.array([imagetest])\n",
    "prediccion = modelo.predict(imagetest)\n",
    "\n",
    "print(\"Prediccion: \" + nombresclases[np.argmax(prediccion[0])])\n"
   ]
  },
  {
   "cell_type": "code",
   "execution_count": null,
   "metadata": {},
   "outputs": [],
   "source": [
    "modelo.save('modelexportexamplekeras.h5')"
   ]
  }
 ],
 "metadata": {
  "kernelspec": {
   "display_name": "Python 3.10.4 64-bit",
   "language": "python",
   "name": "python3"
  },
  "language_info": {
   "codemirror_mode": {
    "name": "ipython",
    "version": 3
   },
   "file_extension": ".py",
   "mimetype": "text/x-python",
   "name": "python",
   "nbconvert_exporter": "python",
   "pygments_lexer": "ipython3",
   "version": "3.10.4"
  },
  "orig_nbformat": 4,
  "vscode": {
   "interpreter": {
    "hash": "6847c98a8f86b01c6a19c518cd2f366693b80566b266804d5ca763cbb223f52b"
   }
  }
 },
 "nbformat": 4,
 "nbformat_minor": 2
}
