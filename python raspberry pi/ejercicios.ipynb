{
 "cells": [
  {
   "cell_type": "code",
   "execution_count": null,
   "metadata": {},
   "outputs": [],
   "source": [
    "s=np.ones(n,dtype=int)\n",
    "for i in range(0,len(lights),1):\n",
    "    x=np.zeros(n,dtype=int)\n",
    "    print(lights[i][2]-1)\n",
    "    for j in range((lights[i][1]-1),lights[i][2]-1,1):\n",
    "        x[j]=1\n",
    "    s=s*x\n",
    "print(np.count_nonzero(s))\n"
   ]
  },
  {
   "attachments": {},
   "cell_type": "markdown",
   "metadata": {},
   "source": [
    "Counts pairs\n"
   ]
  },
  {
   "cell_type": "code",
   "execution_count": 8,
   "metadata": {},
   "outputs": [
    {
     "data": {
      "text/plain": [
       "3"
      ]
     },
     "execution_count": 8,
     "metadata": {},
     "output_type": "execute_result"
    }
   ],
   "source": [
    "import numpy as np\n",
    "import pandas as pd\n",
    "def countpairs(numbers,k):\n",
    "    count = 0\n",
    "    numbers=pd.unique(numbers)\n",
    "    for i in range(0, len(numbers)):\n",
    "        for j in range(i+1, len(numbers)) :\n",
    "            if numbers[i] - numbers[j] == k or numbers[j] - numbers[i] == k:\n",
    "                count += 1\n",
    "    return count\n",
    "a=[6,1,1,2,2,3,3,4]\n",
    "countpairs(a,1)"
   ]
  },
  {
   "attachments": {},
   "cell_type": "markdown",
   "metadata": {},
   "source": [
    "version con set"
   ]
  },
  {
   "cell_type": "code",
   "execution_count": 1,
   "metadata": {},
   "outputs": [],
   "source": [
    "def countpairs(numbers,k):\n",
    "    count = 0\n",
    "    numbers_set = set(numbers)\n",
    "    for i in numbers_set:\n",
    "        if i + k in numbers_set:\n",
    "            count += 1\n",
    "    return count\n"
   ]
  },
  {
   "attachments": {},
   "cell_type": "markdown",
   "metadata": {},
   "source": [
    "job execution"
   ]
  },
  {
   "cell_type": "code",
   "execution_count": 3,
   "metadata": {},
   "outputs": [
    {
     "data": {
      "text/plain": [
       "3"
      ]
     },
     "execution_count": 3,
     "metadata": {},
     "output_type": "execute_result"
    }
   ],
   "source": [
    "def getMinimumOperations(executionTime, x, y):\n",
    "    executionTime.sort()\n",
    "    operations = 0\n",
    "    i = 0\n",
    "    while i < len(executionTime):\n",
    "        if executionTime[i] * x <= y:\n",
    "            operations += 1\n",
    "            i += x\n",
    "        else:\n",
    "            operations += (len(executionTime) - i + x - 1) // x+1\n",
    "            break\n",
    "    return operations\n",
    "a=[5,3,3,6,3,9]\n",
    "getMinimumOperations(a,3,2)"
   ]
  },
  {
   "cell_type": "code",
   "execution_count": 5,
   "metadata": {},
   "outputs": [
    {
     "data": {
      "text/plain": [
       "3"
      ]
     },
     "execution_count": 5,
     "metadata": {},
     "output_type": "execute_result"
    }
   ],
   "source": [
    "def getMinimumOperations(executionTime, x, y):\n",
    "    executionTime.sort()\n",
    "    operations = 0\n",
    "    i = 0\n",
    "    while i < len(executionTime):\n",
    "        if executionTime[i] * x <= y:\n",
    "            operations += 1\n",
    "            i += x\n",
    "        else:\n",
    "            operations += (len(executionTime) - i + x - 1) // x+1\n",
    "            break\n",
    "    return operations\n",
    "a=[3,2,3,5]\n",
    "getMinimumOperations(a,3,1)"
   ]
  }
 ],
 "metadata": {
  "kernelspec": {
   "display_name": "Python 3",
   "language": "python",
   "name": "python3"
  },
  "language_info": {
   "codemirror_mode": {
    "name": "ipython",
    "version": 3
   },
   "file_extension": ".py",
   "mimetype": "text/x-python",
   "name": "python",
   "nbconvert_exporter": "python",
   "pygments_lexer": "ipython3",
   "version": "3.10.7"
  },
  "orig_nbformat": 4,
  "vscode": {
   "interpreter": {
    "hash": "6847c98a8f86b01c6a19c518cd2f366693b80566b266804d5ca763cbb223f52b"
   }
  }
 },
 "nbformat": 4,
 "nbformat_minor": 2
}
