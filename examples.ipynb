{
 "cells": [
  {
   "cell_type": "code",
   "execution_count": 13,
   "metadata": {},
   "outputs": [
    {
     "data": {
      "text/plain": [
       "'25 : 8'"
      ]
     },
     "execution_count": 13,
     "metadata": {},
     "output_type": "execute_result"
    }
   ],
   "source": [
    "def add_time(start, duration,dia=\"\"):\n",
    "    startpart=start.split()\n",
    "    hora=startpart[0].split(\":\")\n",
    "    tamorpm=startpart[1]\n",
    "    if tamorpm==\"PM\":\n",
    "        hora[0]=str(int(hora[0])+12)\n",
    "    horaduration=duration.split(\":\")\n",
    "    addhora= int(hora[0])+int(horaduration[0])\n",
    "    addminute=int(hora[1])+int(horaduration[1])\n",
    "    if addhora>24:\n",
    "        addhora=0\n",
    "    new_time=str(addhora)+\" : \"+str(addminute)\n",
    "    \n",
    "\n",
    "\n",
    "    return new_time\n",
    "    \n",
    "add_time(\"11:06 PM\", \"2:02\")"
   ]
  },
  {
   "cell_type": "code",
   "execution_count": 20,
   "metadata": {},
   "outputs": [
    {
     "name": "stdout",
     "output_type": "stream",
     "text": [
      "Digita en una lista la serie de paises separalos con una coma \n",
      "\n",
      "hola,como,estas,hola hola <class 'list'>\n",
      "['como', 'estas', 'hola']\n"
     ]
    }
   ],
   "source": [
    "print(\"Digita en una lista la serie de paises separalos con una coma \\n\")\n",
    "paises=input()\n",
    "paise=paises.split(\",\")\n",
    "print(paises,\"hola\",type(paise))\n",
    "listadepaises=set(paise)\n",
    "print(list(listadepaises))"
   ]
  },
  {
   "cell_type": "code",
   "execution_count": 1,
   "metadata": {},
   "outputs": [
    {
     "name": "stdout",
     "output_type": "stream",
     "text": [
      "colombioa,pis,sel\n"
     ]
    }
   ],
   "source": [
    "items = input(\"Introduce países separados por comas:\\n\")\n",
    "\n",
    "paises = [pais for pais in items.split(\",\")]\n",
    "\n",
    "print(\",\".join(sorted(list(set(paises)))))"
   ]
  }
 ],
 "metadata": {
  "interpreter": {
   "hash": "6847c98a8f86b01c6a19c518cd2f366693b80566b266804d5ca763cbb223f52b"
  },
  "kernelspec": {
   "display_name": "Python 3.10.4 64-bit",
   "language": "python",
   "name": "python3"
  },
  "language_info": {
   "codemirror_mode": {
    "name": "ipython",
    "version": 3
   },
   "file_extension": ".py",
   "mimetype": "text/x-python",
   "name": "python",
   "nbconvert_exporter": "python",
   "pygments_lexer": "ipython3",
   "version": "3.10.4"
  },
  "orig_nbformat": 4
 },
 "nbformat": 4,
 "nbformat_minor": 2
}
